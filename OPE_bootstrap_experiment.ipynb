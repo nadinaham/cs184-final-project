{
  "nbformat": 4,
  "nbformat_minor": 0,
  "metadata": {
    "colab": {
      "provenance": []
    },
    "kernelspec": {
      "name": "python3",
      "display_name": "Python 3"
    },
    "language_info": {
      "name": "python"
    }
  },
  "cells": [
    {
      "cell_type": "code",
      "source": [
        "import numpy as np\n",
        "from sklearn.linear_model import SGDRegressor\n",
        "import matplotlib.pyplot as plt\n",
        "from scipy.stats import norm\n",
        "\n",
        "# Set random seed for reproducibility\n",
        "np.random.seed(42)"
      ],
      "metadata": {
        "id": "Pb5UVmeVv-EG"
      },
      "execution_count": null,
      "outputs": []
    },
    {
      "cell_type": "code",
      "source": [
        "class ContinuousMDP:\n",
        "    def __init__(self, gamma=0.3):\n",
        "        \"\"\"\n",
        "        Initialize the Continuous MDP.\n",
        "\n",
        "        Parameters:\n",
        "        - gamma: Discount factor for the MDP.\n",
        "        \"\"\"\n",
        "        self.gamma = gamma\n",
        "\n",
        "    def transition(self, s, a):\n",
        "        \"\"\"\n",
        "        Sample the next state given current state s and action a.\n",
        "\n",
        "        Parameters:\n",
        "        - s: Current state (float).\n",
        "        - a: Action taken (float).\n",
        "\n",
        "        Returns:\n",
        "        - s_next: Next state (float), sampled from N(s + a, sigma^2).\n",
        "        \"\"\"\n",
        "        mean = s + a\n",
        "        s_next = np.random.normal(loc=mean, scale=0.5)\n",
        "        return s_next\n",
        "\n",
        "    def transition_prob(self, transitions):\n",
        "        probabilities = []\n",
        "        for transition in transitions:\n",
        "            s = transition[0]\n",
        "            a = transition[1]\n",
        "            s_next = transition[3]\n",
        "            mean = s + a\n",
        "            std = 0.5\n",
        "            p = norm.pdf(s_next, loc=mean, scale=std)\n",
        "            probabilities.append(p)\n",
        "        return probabilities\n",
        "\n",
        "    def reward(self, s, a):\n",
        "        \"\"\"\n",
        "        Compute the reward for state s and action a.\n",
        "\n",
        "        Parameters:\n",
        "        - s: Current state (float).\n",
        "        - a: Action taken (float).\n",
        "\n",
        "        Returns:\n",
        "        - r: Reward (float), computed as - (s + a)^2.\n",
        "        \"\"\"\n",
        "        r = - s ** 2\n",
        "        return r\n",
        "\n",
        "    def behavior_policy(self, s):\n",
        "        \"\"\"\n",
        "        Sample an action from the behavior policy given state s.\n",
        "\n",
        "        Parameters:\n",
        "        - s: Current state (float).\n",
        "\n",
        "        Returns:\n",
        "        - a: Action (float).\n",
        "        \"\"\"\n",
        "        a = np.random.normal(loc=0, scale=0.5)\n",
        "        return a\n",
        "\n",
        "    def evaluation_policy(self, s):\n",
        "        \"\"\"\n",
        "        Sample an action from the evaluation policy given state s.\n",
        "\n",
        "        Parameters:\n",
        "        - s: Current state (float).\n",
        "\n",
        "        Returns:\n",
        "        - a: Action (float).\n",
        "        \"\"\"\n",
        "        a = np.random.normal(loc=-1.0, scale=0.5)\n",
        "        return a\n",
        "\n",
        "    def evaluation_policy_exp_a(self, s):\n",
        "        return -1.0\n",
        "\n",
        "    def evaluation_policy_exp_a2(self, s):\n",
        "        return 1.25\n",
        "\n",
        "    def generate_trajectories(self, policy_function, num_trajectories, trajectory_length, s0=0.0):\n",
        "        \"\"\"\n",
        "        Generate multiple trajectories using the specified policy.\n",
        "\n",
        "        Parameters:\n",
        "        - policy_function: Function that takes state s and returns action a.\n",
        "        - num_trajectories: Number of trajectories to generate (int).\n",
        "        - trajectory_length: Length of each trajectory (int).\n",
        "        - s0: Initial state (float). If None, starts from zero.\n",
        "\n",
        "        Returns:\n",
        "        - trajectories: List of trajectories, each trajectory is a list of tuples:\n",
        "                        (state, action, reward, next_state)\n",
        "        \"\"\"\n",
        "        trajectories = []\n",
        "        for _ in range(num_trajectories):\n",
        "            trajectory = []\n",
        "            s = s0\n",
        "            for _ in range(trajectory_length):\n",
        "                a = policy_function(s)\n",
        "                s_next = self.transition(s, a)\n",
        "                r = self.reward(s, a)\n",
        "                trajectory.append((s, a, r, s_next))\n",
        "                s = s_next\n",
        "            trajectories.append(trajectory)\n",
        "        return trajectories\n",
        "\n",
        "    def get_discounted_return(self, rewards):\n",
        "        \"\"\"\n",
        "        Compute the discounted return for a list of rewards.\n",
        "\n",
        "        Parameters:\n",
        "        - rewards: List of rewards (float).\n",
        "\n",
        "        Returns:\n",
        "        - G: Discounted return (float).\n",
        "        \"\"\"\n",
        "        G = 0.0\n",
        "        for t, r in enumerate(rewards):\n",
        "            G += (self.gamma ** t) * r\n",
        "        return G"
      ],
      "metadata": {
        "id": "MPYCoTSb-20E"
      },
      "execution_count": null,
      "outputs": []
    },
    {
      "cell_type": "code",
      "source": [
        "# Initialize the MDP\n",
        "mdp = ContinuousMDP(gamma=0.3)"
      ],
      "metadata": {
        "id": "zTSUh5kbuncU"
      },
      "execution_count": null,
      "outputs": []
    },
    {
      "cell_type": "code",
      "source": [
        "# Define the number of trajectories and their length\n",
        "num_trajectories = 20000\n",
        "trajectory_length = 25\n",
        "\n",
        "# Generate trajectories using the evaluation policy\n",
        "trajectories_e = mdp.generate_trajectories(\n",
        "    policy_function=mdp.evaluation_policy,\n",
        "    num_trajectories=num_trajectories,\n",
        "    trajectory_length=trajectory_length,\n",
        "    s0=0\n",
        ")\n",
        "\n",
        "trajectory_rewards = []\n",
        "\n",
        "for traj in trajectories_e:\n",
        "    rewards = [r for (_, _, r, _) in traj]\n",
        "    G = mdp.get_discounted_return(rewards)\n",
        "    trajectory_rewards.append(G)\n",
        "\n",
        "print(np.mean(trajectory_rewards))"
      ],
      "metadata": {
        "colab": {
          "base_uri": "https://localhost:8080/"
        },
        "id": "stu9Gs0vq7-C",
        "outputId": "9a212012-aa28-42ca-d443-5bf1d82e05fa"
      },
      "execution_count": null,
      "outputs": [
        {
          "output_type": "stream",
          "name": "stdout",
          "text": [
            "-1.4546462169617727\n"
          ]
        }
      ]
    },
    {
      "cell_type": "code",
      "source": [
        "s = 0\n",
        "\n",
        "true_q = -1 * s**2 - np.sum([mdp.gamma**i * ((s - i)**2 + 0.5*i) for i in range(1,51)], axis=0)\n",
        "true_q"
      ],
      "metadata": {
        "colab": {
          "base_uri": "https://localhost:8080/"
        },
        "id": "X5kElapS7aF-",
        "outputId": "0112eb32-f612-4208-fd76-b8db260fb16f"
      },
      "execution_count": null,
      "outputs": [
        {
          "output_type": "execute_result",
          "data": {
            "text/plain": [
              "-1.4431486880466469"
            ]
          },
          "metadata": {},
          "execution_count": 5
        }
      ]
    },
    {
      "cell_type": "code",
      "source": [
        "# Feature representation\n",
        "def phi(s, a):\n",
        "    \"\"\"\n",
        "    Feature mapping for state-action pairs.\n",
        "    For linear function approximation, we can use polynomial features.\n",
        "    Here, we'll use a simple polynomial basis up to degree 2.\n",
        "    \"\"\"\n",
        "    # Include bias term\n",
        "    features = np.array([\n",
        "        1.0,          # Bias term\n",
        "        s,            # State\n",
        "        a,            # Action\n",
        "        s * a,        # Interaction term\n",
        "        s ** 2,       # State squared\n",
        "        a ** 2        # Action squared\n",
        "    ])\n",
        "    return features"
      ],
      "metadata": {
        "id": "WEyExZXOPqL2"
      },
      "execution_count": null,
      "outputs": []
    },
    {
      "cell_type": "code",
      "source": [
        "# Estimate the value of the evaluation policy\n",
        "def estimate_policy_value(mdp, theta, s0=0.0):\n",
        "    # TODO for education experiment: expectation over distribution of starting states\n",
        "    \"\"\"\n",
        "    Estimate the value of the evaluation policy using the learned Q-function.\n",
        "\n",
        "    Parameters:\n",
        "    - mdp: Instance of the MDP.\n",
        "    - theta: Parameters of the Q-function approximator.\n",
        "\n",
        "    Returns:\n",
        "    - estimated_value: Average estimated value of the evaluation policy.\n",
        "    \"\"\"\n",
        "\n",
        "    exp_phi_sa = np.array([\n",
        "        1.0,\n",
        "        s0,\n",
        "        mdp.evaluation_policy_exp_a(s0),            # E(a)\n",
        "        s0 * mdp.evaluation_policy_exp_a(s0),\n",
        "        s0 ** 2,\n",
        "        mdp.evaluation_policy_exp_a2(s0)            # E(a^2)\n",
        "    ])\n",
        "\n",
        "    return exp_phi_sa.dot(theta)"
      ],
      "metadata": {
        "id": "dVRmHT5hjmfB"
      },
      "execution_count": null,
      "outputs": []
    },
    {
      "cell_type": "code",
      "source": [
        "# Fitted Q Evaluation\n",
        "def run_fqe(mdp, transitions, num_iterations=20, break_at_converge=True):\n",
        "    \"\"\"\n",
        "    Perform Fitted Q Evaluation (FQE) using linear function approximation.\n",
        "\n",
        "    Parameters:\n",
        "    - mdp: Instance of the MDP.\n",
        "    - data: List of trajectories collected under the behavior policy.\n",
        "    - num_iterations: Number of iterations to run FQE.\n",
        "\n",
        "    Returns:\n",
        "    - theta: Learned parameters for the Q-function approximator.\n",
        "    \"\"\"\n",
        "    # Initialize parameters theta for linear function approximation\n",
        "    n_features = len(phi(0.0, 0.0))\n",
        "    theta = np.zeros(n_features)\n",
        "    theta_history = []\n",
        "\n",
        "    # Convert transitions to arrays for efficient processing\n",
        "    states = np.array([t[0] for t in transitions])\n",
        "    actions = np.array([t[1] for t in transitions])\n",
        "    rewards = np.array([t[2] for t in transitions])\n",
        "    next_states = np.array([t[3] for t in transitions])\n",
        "\n",
        "    # Precompute features for current state-action pairs\n",
        "    phi_sa = np.array([phi(s, a) for s, a in zip(states, actions)])\n",
        "\n",
        "    # FQE Iterations\n",
        "    for iteration in range(num_iterations):\n",
        "        # Compute targets using the previous estimate of theta\n",
        "        # For the first iteration, theta is zero, so Q-values are zero\n",
        "        q_next = [estimate_policy_value(mdp, theta, s0=s_next) for s_next in next_states]\n",
        "        q_next = np.array(q_next)\n",
        "\n",
        "        # Compute target values using the Bellman equation\n",
        "        targets = rewards + mdp.gamma * q_next\n",
        "\n",
        "        # Solve for theta using least squares regression\n",
        "        # Minimize || phi_sa @ theta - targets ||^2\n",
        "        theta_new, residuals, rank, s = np.linalg.lstsq(phi_sa, targets, rcond=None)\n",
        "        theta_history.append(theta_new)\n",
        "\n",
        "        # Check convergence\n",
        "        if break_at_converge:\n",
        "          theta_change = np.linalg.norm(theta_new - theta)\n",
        "          if theta_change < 1e-6:\n",
        "              break\n",
        "\n",
        "        theta = theta_new\n",
        "\n",
        "    return theta_history"
      ],
      "metadata": {
        "id": "Jxx8cyayJg5Z"
      },
      "execution_count": null,
      "outputs": []
    },
    {
      "cell_type": "code",
      "source": [
        "def run_fqe_with_influences(mdp, transitions):\n",
        "    n_features = len(phi(0.0, 0.0))\n",
        "\n",
        "    # Convert transitions to arrays for efficient processing\n",
        "    states = np.array([t[0] for t in transitions])\n",
        "    actions = np.array([t[1] for t in transitions])\n",
        "    rewards = np.array([t[2] for t in transitions])\n",
        "    next_states = np.array([t[3] for t in transitions])\n",
        "\n",
        "    # Precompute features for current state-action pairs\n",
        "    phi_sa = np.array([phi(s, a) for s, a in zip(states, actions)])\n",
        "    phi_s_next = np.array([phi(s_next, mdp.evaluation_policy_exp_a(s_next)) for s_next in next_states])\n",
        "\n",
        "    theta = np.linalg.inv((phi_sa.T @ phi_sa - mdp.gamma * phi_sa.T @ phi_s_next)) @ phi_sa.T @ rewards\n",
        "    C_inv = np.linalg.inv((phi_sa.T @ phi_sa - mdp.gamma * phi_sa.T @ phi_s_next))\n",
        "\n",
        "    rewards = np.reshape(rewards, (len(rewards), 1))\n",
        "\n",
        "    influences = []\n",
        "    for trans_j in transitions:\n",
        "      phi_j = np.reshape(phi(trans_j[0], trans_j[1]), (n_features, 1))\n",
        "      phi_pi_j = np.reshape(phi(trans_j[3], mdp.evaluation_policy_exp_a(trans_j[3])), (n_features, 1))\n",
        "\n",
        "      B_j = C_inv + ((C_inv @ phi_j @ phi_j.T @ C_inv) / (1 - phi_j.T @ C_inv @ phi_j))\n",
        "\n",
        "      C_j_inv = B_j - (mdp.gamma * B_j @ phi_j @ phi_pi_j.T @ B_j / (1 + mdp.gamma * phi_pi_j.T @ B_j @ phi_j))\n",
        "      theta_j = C_j_inv @ (phi_sa.T @ rewards - trans_j[2] * phi_j)\n",
        "      theta_j = np.reshape(theta_j, (n_features, ))\n",
        "\n",
        "      influences.append(estimate_policy_value(mdp, theta_j) - estimate_policy_value(mdp, theta))\n",
        "\n",
        "    return theta, influences"
      ],
      "metadata": {
        "id": "TxKGvFXE9Pk-"
      },
      "execution_count": null,
      "outputs": []
    },
    {
      "cell_type": "code",
      "source": [
        "# Generate data from the behavior policy\n",
        "num_trajectories = 500\n",
        "trajectory_length = 20\n",
        "data = mdp.generate_trajectories(\n",
        "    policy_function=mdp.behavior_policy,\n",
        "    num_trajectories=num_trajectories,\n",
        "    trajectory_length=trajectory_length,\n",
        ")\n",
        "\n",
        "# Flatten trajectories into transitions\n",
        "transitions = [t for traj in data for t in traj]\n",
        "\n",
        "transition_prob = mdp.transition_prob(transitions)"
      ],
      "metadata": {
        "id": "-vh-GhyeMn-p"
      },
      "execution_count": null,
      "outputs": []
    },
    {
      "cell_type": "code",
      "source": [
        "# Run Fitted Q Evaluation\n",
        "print(\"Running Fitted Q Evaluation (FQE) with 500 trajectories...\")\n",
        "theta_history = run_fqe(mdp, transitions)\n",
        "\n",
        "estimated_values = [estimate_policy_value(mdp, theta) for theta in theta_history]\n",
        "\n",
        "# Plot the mean\n",
        "plt.plot(range(len(theta_history)), estimated_values, marker='o', linestyle='-', color='b')\n",
        "plt.xlabel('Iterations')\n",
        "plt.ylabel('Value Function of Starting State')\n",
        "plt.title('Value Function Estimate Over FQE Iterations with 500 Trajectories')\n",
        "\n",
        "# Display the plot\n",
        "plt.show()\n"
      ],
      "metadata": {
        "colab": {
          "base_uri": "https://localhost:8080/",
          "height": 490
        },
        "id": "RWipdiMUMq-r",
        "outputId": "0bb8ed2d-b556-4987-cccd-f3f7f58817a1"
      },
      "execution_count": null,
      "outputs": [
        {
          "output_type": "stream",
          "name": "stdout",
          "text": [
            "Running Fitted Q Evaluation (FQE) with 500 trajectories...\n"
          ]
        },
        {
          "output_type": "display_data",
          "data": {
            "text/plain": [
              "<Figure size 640x480 with 1 Axes>"
            ],
            "image/png": "[encoded data removed]"
          },
          "metadata": {}
        }
      ]
    },
    {
      "cell_type": "code",
      "source": [
        "# Generate data from the behavior policy\n",
        "num_trajectories = 20\n",
        "trajectory_length = 20\n",
        "data = mdp.generate_trajectories(\n",
        "    policy_function=mdp.behavior_policy,\n",
        "    num_trajectories=num_trajectories,\n",
        "    trajectory_length=trajectory_length,\n",
        ")\n",
        "\n",
        "# Flatten trajectories into transitions\n",
        "transitions = [t for traj in data for t in traj]\n",
        "\n",
        "transition_prob = mdp.transition_prob(transitions)"
      ],
      "metadata": {
        "id": "dt8okEhGDrgq"
      },
      "execution_count": null,
      "outputs": []
    },
    {
      "cell_type": "code",
      "source": [
        "# Run Fitted Q Evaluation\n",
        "print(\"Running Fitted Q Evaluation (FQE) with 20 trajectories...\")\n",
        "theta_history = run_fqe(mdp, transitions)\n",
        "\n",
        "estimated_values = [estimate_policy_value(mdp, theta) for theta in theta_history]\n",
        "\n",
        "# Plot the mean\n",
        "plt.plot(range(len(theta_history)), estimated_values, marker='o', linestyle='-', color='b')\n",
        "plt.xlabel('Iterations')\n",
        "plt.ylabel('Value Function of Starting State')\n",
        "plt.title('Value Function Estimate Over FQE Iterations with 20 Trajectories')\n",
        "\n",
        "# Display the plot\n",
        "plt.show()\n"
      ],
      "metadata": {
        "colab": {
          "base_uri": "https://localhost:8080/",
          "height": 490
        },
        "id": "ql7n_I9KKqGc",
        "outputId": "42077260-f691-49f4-88ec-b21770975fbe"
      },
      "execution_count": null,
      "outputs": [
        {
          "output_type": "stream",
          "name": "stdout",
          "text": [
            "Running Fitted Q Evaluation (FQE) with 500 trajectories...\n"
          ]
        },
        {
          "output_type": "display_data",
          "data": {
            "text/plain": [
              "<Figure size 640x480 with 1 Axes>"
            ],
            "image/png": "[encoded data removed]"
          },
          "metadata": {}
        }
      ]
    },
    {
      "cell_type": "code",
      "source": [
        "print(f\"Theta from iterative FQE: {theta_history[-1]}\")\n",
        "theta_iterative = theta_history[-1]\n",
        "theta_closed, influences = run_fqe_with_influences(mdp, transitions)\n",
        "print(f\"Theta from closed form FQE: {theta_closed}\")"
      ],
      "metadata": {
        "colab": {
          "base_uri": "https://localhost:8080/"
        },
        "id": "MZYDNOZREIKa",
        "outputId": "d57fb271-b200-4dd3-cda4-0ae9ecbd526d"
      },
      "execution_count": null,
      "outputs": [
        {
          "output_type": "stream",
          "name": "stdout",
          "text": [
            "Theta from iterative FQE: [-0.50600191  0.23778911  0.25840511 -0.71927991 -1.40200492 -0.41977214]\n",
            "Theta from closed form FQE: [-0.46102667  0.23778915  0.25840515 -0.71927991 -1.40200492 -0.41977214]\n"
          ]
        }
      ]
    },
    {
      "cell_type": "code",
      "source": [
        "def remove_influential(transitions, influences, transition_prob):\n",
        "    influences = np.abs(influences)\n",
        "    indices = range(len(transitions))\n",
        "\n",
        "    # zip and sort by influence (high to low)\n",
        "    zipped_sorted = sorted(zip(transitions, influences, transition_prob, indices), key=lambda pair: -pair[1])\n",
        "    sorted_transitions, sorted_influences, sorted_transition_prob, sorted_indices = zip(*zipped_sorted)\n",
        "\n",
        "    # get top 5% influential datapoints\n",
        "    num_to_remove = int(len(indices) * 0.05)\n",
        "    influential_indices = sorted_indices[0:num_to_remove]\n",
        "\n",
        "    # filter out low probability transitions\n",
        "    probability_cutoff = sorted(transition_prob)[int(0.15 * len(transition_prob))]\n",
        "    removed_indices = [i for i in influential_indices if transition_prob[i] <= probability_cutoff]\n",
        "\n",
        "    # exclude from returned transitions\n",
        "    return [transitions[i] for i in indices if i not in removed_indices]"
      ],
      "metadata": {
        "id": "c4Ftx3zQ4vi1"
      },
      "execution_count": null,
      "outputs": []
    },
    {
      "cell_type": "code",
      "source": [
        "new_transitions = remove_influential(transitions, influences, transition_prob)\n",
        "print(len(transitions))\n",
        "print(len(new_transitions))"
      ],
      "metadata": {
        "colab": {
          "base_uri": "https://localhost:8080/"
        },
        "id": "ettAl44n4F_p",
        "outputId": "2c541d33-733c-4fdf-cef3-053303984e4f"
      },
      "execution_count": null,
      "outputs": [
        {
          "output_type": "stream",
          "name": "stdout",
          "text": [
            "400\n",
            "391\n"
          ]
        }
      ]
    },
    {
      "cell_type": "code",
      "source": [
        "indices = range(len(transitions))\n",
        "abs_influences = np.abs(influences)\n",
        "\n",
        "zipped_sorted = sorted(zip(transitions, abs_influences, indices), key=lambda pair: -pair[1])\n",
        "\n",
        "# If you need the sorted lists back as separate lists:\n",
        "sorted_transitions, sorted_abs_influences, sorted_indices = zip(*zipped_sorted)"
      ],
      "metadata": {
        "id": "A1rXMTvKlou1"
      },
      "execution_count": null,
      "outputs": []
    },
    {
      "cell_type": "code",
      "source": [
        "most_influential = sorted_indices[0]\n",
        "transitions[most_influential]"
      ],
      "metadata": {
        "colab": {
          "base_uri": "https://localhost:8080/"
        },
        "id": "zTGN-xXUl_6f",
        "outputId": "76073d69-7a04-4b22-a2ab-167f52d4b937"
      },
      "execution_count": null,
      "outputs": [
        {
          "output_type": "execute_result",
          "data": {
            "text/plain": [
              "(-2.670762691712266,\n",
              " -1.1005288975175533,\n",
              " -7.132973355442148,\n",
              " -4.245114320556079)"
            ]
          },
          "metadata": {},
          "execution_count": 648
        }
      ]
    },
    {
      "cell_type": "code",
      "source": [
        "influences[most_influential]"
      ],
      "metadata": {
        "colab": {
          "base_uri": "https://localhost:8080/"
        },
        "id": "O8uT7M39mnMD",
        "outputId": "8c07e765-ecb4-43a4-978f-520841d51e99"
      },
      "execution_count": null,
      "outputs": [
        {
          "output_type": "execute_result",
          "data": {
            "text/plain": [
              "0.12276827394600476"
            ]
          },
          "metadata": {},
          "execution_count": 649
        }
      ]
    },
    {
      "cell_type": "code",
      "source": [
        "# Generate data from the behavior policy\n",
        "num_trajectories = 100\n",
        "trajectory_length = 10\n",
        "data = mdp.generate_trajectories(\n",
        "    policy_function=mdp.behavior_policy,\n",
        "    num_trajectories=num_trajectories,\n",
        "    trajectory_length=trajectory_length,\n",
        ")\n",
        "\n",
        "# Flatten trajectories into transitions\n",
        "transitions = [t for traj in data for t in traj]\n",
        "\n",
        "# Run Fitted Q Evaluation\n",
        "print(\"Running Fitted Q Evaluation (FQE)...\")\n",
        "theta_history = run_fqe(mdp, transitions)\n",
        "\n",
        "estimated_values = [estimate_policy_value(mdp, theta) for theta in theta_history]\n",
        "\n",
        "# Plot the mean\n",
        "plt.plot(range(len(theta_history)), estimated_values, marker='o', linestyle='-', color='b')\n",
        "plt.xlabel('Iterations')\n",
        "plt.ylabel('Value Function of Starting State')\n",
        "plt.title('Value Function Estimate Over FQE Iterations')\n",
        "\n",
        "# Display the plot\n",
        "plt.show()\n"
      ],
      "metadata": {
        "colab": {
          "base_uri": "https://localhost:8080/",
          "height": 490
        },
        "id": "4M5GYlbONovy",
        "outputId": "4784f027-f083-4299-eb5c-2060564128d7"
      },
      "execution_count": null,
      "outputs": [
        {
          "output_type": "stream",
          "name": "stdout",
          "text": [
            "Running Fitted Q Evaluation (FQE)...\n"
          ]
        },
        {
          "output_type": "display_data",
          "data": {
            "text/plain": [
              "<Figure size 640x480 with 1 Axes>"
            ],
            "image/png": "[encoded data removed]"
          },
          "metadata": {}
        }
      ]
    },
    {
      "cell_type": "code",
      "source": [
        "theta_closed, _ = run_fqe_with_influences(mdp, transitions)\n",
        "estimated_values = estimate_policy_value(mdp, theta_closed)\n",
        "estimated_values"
      ],
      "metadata": {
        "colab": {
          "base_uri": "https://localhost:8080/"
        },
        "id": "jQQsMOna_9DI",
        "outputId": "e776e09a-bc30-4ff3-867c-94439a7093f9"
      },
      "execution_count": null,
      "outputs": [
        {
          "output_type": "execute_result",
          "data": {
            "text/plain": [
              "-1.5056276278113665"
            ]
          },
          "metadata": {},
          "execution_count": 651
        }
      ]
    },
    {
      "cell_type": "code",
      "source": [
        "# Bootstrapping to estimate variance\n",
        "def bootstrap_fqe(mdp, transitions, num_bootstrap_samples=100, num_iterations=20):\n",
        "    \"\"\"\n",
        "    Perform bootstrapping to estimate the variance of the Q-function parameters.\n",
        "\n",
        "    Parameters:\n",
        "    - mdp: Instance of the MDP.\n",
        "    - transitions: List of transitions (s, a, r, s').\n",
        "    - num_bootstrap_samples: Number of bootstrap samples.\n",
        "    - num_iterations: Number of iterations for FQE.\n",
        "\n",
        "    Returns:\n",
        "    - theta_samples: Array of theta estimates from each bootstrap sample.\n",
        "    \"\"\"\n",
        "\n",
        "    final_theta = []\n",
        "    theta_histories = []\n",
        "\n",
        "    n_transitions = len(transitions)\n",
        "\n",
        "    for i in range(num_bootstrap_samples):\n",
        "        # Resample transitions with replacement\n",
        "        indices = np.random.choice(n_transitions, size=n_transitions, replace=True)\n",
        "        bootstrap_transitions = [transitions[idx] for idx in indices]\n",
        "\n",
        "        # Run FQE on the bootstrap sample\n",
        "        theta_history = run_fqe(mdp, bootstrap_transitions, num_iterations=num_iterations, break_at_converge=False)\n",
        "        theta_histories.append(theta_history)\n",
        "        final_theta.append(theta_history[-1])\n",
        "\n",
        "        if (i + 1) % (num_bootstrap_samples / 10) == 0:\n",
        "            print(f\"Bootstrap Sample {i + 1}/{num_bootstrap_samples} completed.\")\n",
        "\n",
        "    final_theta = np.array(final_theta)\n",
        "    q_values_means = []\n",
        "    q_values_variances = []\n",
        "\n",
        "    for i in range(num_iterations):\n",
        "        thetas = [theta_history[i] for theta_history in theta_histories]\n",
        "        # Compute Q-values for each bootstrap sample\n",
        "        q_values_samples = []\n",
        "        for theta in thetas:\n",
        "            q_values_samples.append(estimate_policy_value(mdp, theta))\n",
        "\n",
        "        q_values_samples = np.array(q_values_samples)\n",
        "\n",
        "        # Compute variance of Q-values\n",
        "        q_values_mean = np.mean(q_values_samples, axis=0)\n",
        "        q_values_variance = np.var(q_values_samples, axis=0)\n",
        "\n",
        "        q_values_means.append(q_values_mean)\n",
        "        q_values_variances.append(q_values_variance)\n",
        "\n",
        "        # Create the histogram\n",
        "        plt.hist(q_values_samples, bins=30, edgecolor='black', alpha=0.7)\n",
        "\n",
        "        # Add labels and title\n",
        "        plt.xlabel(f\"Mean: {q_values_mean}, Var: {q_values_variance}\")\n",
        "        plt.ylabel('Frequency')\n",
        "        plt.title(f'Bootstrap iteration {i+1} value function estimates')\n",
        "\n",
        "        # Display the plot\n",
        "        plt.show()\n",
        "\n",
        "\n",
        "    # Plot mean and variance over iterations\n",
        "    x = range(num_iterations)\n",
        "\n",
        "    # Plot the mean\n",
        "    plt.plot(x, q_values_means, marker='o', linestyle='-', color='b')\n",
        "    plt.xlabel('Iterations')\n",
        "    plt.ylabel('Mean')\n",
        "    plt.title('Value Function Mean Over FQE Iterations')\n",
        "\n",
        "    # Display the plot\n",
        "    plt.show()\n",
        "\n",
        "    # Plot the mean\n",
        "    plt.plot(x, q_values_variances, marker='o', linestyle='-', color='b')\n",
        "    plt.xlabel('Iterations')\n",
        "    plt.ylabel('Variance')\n",
        "    plt.title('Value Function Variance Over FQE Iterations')\n",
        "\n",
        "    # Display the plot\n",
        "    plt.show()\n",
        "\n",
        "    return final_theta"
      ],
      "metadata": {
        "id": "Lvpfv3u3V9qq"
      },
      "execution_count": null,
      "outputs": []
    },
    {
      "cell_type": "code",
      "source": [
        "# # Generate data from the behavior policy\n",
        "# num_trajectories = 20\n",
        "# trajectory_length = 20\n",
        "# behavior_data = mdp.generate_trajectories(\n",
        "#     policy_function=mdp.behavior_policy,\n",
        "#     num_trajectories=num_trajectories,\n",
        "#     trajectory_length=trajectory_length\n",
        "# )\n",
        "\n",
        "# transitions = [t for traj in behavior_data for t in traj]\n",
        "\n",
        "# # Settings for both bootstrap\n",
        "# num_bootstrap_samples = 100\n",
        "# num_iterations = 20"
      ],
      "metadata": {
        "id": "PvzUjli9u_vf"
      },
      "execution_count": null,
      "outputs": []
    },
    {
      "cell_type": "code",
      "source": [
        "# # Perform bootstrapping on behavior data\n",
        "# print(\"Performing bootstrapping on behavior transitions...\")\n",
        "# theta_samples = bootstrap_fqe(\n",
        "#     mdp,\n",
        "#     transitions,\n",
        "#     num_bootstrap_samples=num_bootstrap_samples,\n",
        "#     num_iterations=num_iterations\n",
        "# )"
      ],
      "metadata": {
        "id": "SkyQWCIlWCUJ"
      },
      "execution_count": null,
      "outputs": []
    },
    {
      "cell_type": "code",
      "source": [
        "# # Add atypical transition\n",
        "# s = -4\n",
        "# a = mdp.evaluation_policy(s)\n",
        "# atypical_transition = (s, a, mdp.reward(s, a), 4)\n",
        "# atypical_transitions = transitions.copy()\n",
        "# atypical_transitions.append(atypical_transition)"
      ],
      "metadata": {
        "id": "tvoYEfYjomZN"
      },
      "execution_count": null,
      "outputs": []
    },
    {
      "cell_type": "code",
      "source": [
        "# # Perform bootstrapping on behavior data with atypical transiton\n",
        "# print(\"Performing bootstrapping with atypical transition...\")\n",
        "# theta_samples = bootstrap_fqe(\n",
        "#     mdp,\n",
        "#     atypical_transitions,\n",
        "#     num_bootstrap_samples=num_bootstrap_samples,\n",
        "#     num_iterations=num_iterations\n",
        "# )"
      ],
      "metadata": {
        "id": "VXbL_MyTqfsa"
      },
      "execution_count": null,
      "outputs": []
    },
    {
      "cell_type": "code",
      "source": [
        "# Bootstrapping to estimate variance\n",
        "def bootstrap_fqe_closed(mdp, transitions, num_bootstrap_samples=100):\n",
        "    \"\"\"\n",
        "    Perform bootstrapping to estimate the variance of the Q-function parameters.\n",
        "\n",
        "    Parameters:\n",
        "    - mdp: Instance of the MDP.\n",
        "    - transitions: List of transitions (s, a, r, s').\n",
        "    - num_bootstrap_samples: Number of bootstrap samples.\n",
        "    - num_iterations: Number of iterations for FQE.\n",
        "\n",
        "    Returns:\n",
        "    - theta_samples: Array of theta estimates from each bootstrap sample.\n",
        "    \"\"\"\n",
        "    n_transitions = len(transitions)\n",
        "    final_theta = []\n",
        "    for i in range(num_bootstrap_samples):\n",
        "        # Resample transitions with replacement\n",
        "        indices = np.random.choice(n_transitions, size=n_transitions, replace=True)\n",
        "        bootstrap_transitions = [transitions[idx] for idx in indices]\n",
        "\n",
        "        # Run FQE on the bootstrap sample\n",
        "        theta, _ = run_fqe_with_influences(mdp, bootstrap_transitions)\n",
        "        final_theta.append(theta)\n",
        "\n",
        "        # final_theta.append(theta_history[-1])\n",
        "\n",
        "        if (i + 1) % (num_bootstrap_samples / 10) == 0:\n",
        "            print(f\"Bootstrap Sample {i + 1}/{num_bootstrap_samples} completed.\")\n",
        "\n",
        "    final_theta = np.array(final_theta)\n",
        "    q_values_means = []\n",
        "    q_values_variances = []\n",
        "\n",
        "    # for i in range(num_iterations):\n",
        "    thetas = final_theta\n",
        "    # Compute Q-values for each bootstrap sample\n",
        "    q_values_samples = []\n",
        "    for theta in thetas:\n",
        "        q_values_samples.append(estimate_policy_value(mdp, theta))\n",
        "\n",
        "    q_values_samples = np.array(q_values_samples)\n",
        "\n",
        "    # Compute variance of Q-values\n",
        "    q_values_mean = np.mean(q_values_samples, axis=0)\n",
        "    q_values_variance = np.var(q_values_samples, axis=0)\n",
        "\n",
        "    q_values_means.append(q_values_mean)\n",
        "    q_values_variances.append(q_values_variance)\n",
        "\n",
        "    # Create the histogram\n",
        "    plt.hist(q_values_samples, bins=30, edgecolor='black', alpha=0.7)\n",
        "\n",
        "    # Add labels and title\n",
        "    plt.xlabel(f\"Mean: {q_values_mean}, Var: {q_values_variance}\")\n",
        "    plt.ylabel('Frequency')\n",
        "    plt.title(f'Bootstrap value function estimates')\n",
        "\n",
        "    # Display the plot\n",
        "    plt.show()\n",
        "\n",
        "    return final_theta"
      ],
      "metadata": {
        "id": "FUjveth7nHmK"
      },
      "execution_count": null,
      "outputs": []
    },
    {
      "cell_type": "code",
      "source": [
        "# Generate data from the behavior policy\n",
        "num_trajectories = 50\n",
        "trajectory_length = 50\n",
        "behavior_data = mdp.generate_trajectories(\n",
        "    policy_function=mdp.behavior_policy,\n",
        "    num_trajectories=num_trajectories,\n",
        "    trajectory_length=trajectory_length\n",
        ")\n",
        "\n",
        "transitions = [t for traj in behavior_data for t in traj]\n",
        "\n",
        "# Settings for both bootstrap\n",
        "num_bootstrap_samples = 100"
      ],
      "metadata": {
        "id": "wEZ_tY8o7wVu"
      },
      "execution_count": null,
      "outputs": []
    },
    {
      "cell_type": "code",
      "source": [
        "# Perform bootstrapping on behavior data\n",
        "print(\"Performing bootstrapping on behavior transitions...\")\n",
        "theta_samples = bootstrap_fqe_closed(\n",
        "    mdp,\n",
        "    transitions,\n",
        "    num_bootstrap_samples=num_bootstrap_samples\n",
        ")"
      ],
      "metadata": {
        "colab": {
          "base_uri": "https://localhost:8080/",
          "height": 668
        },
        "id": "QvM5vpP-whRm",
        "outputId": "50411264-f446-4001-bc0f-0630e68231b0"
      },
      "execution_count": null,
      "outputs": [
        {
          "output_type": "stream",
          "name": "stdout",
          "text": [
            "Performing bootstrapping on behavior transitions...\n",
            "Bootstrap Sample 10/100 completed.\n",
            "Bootstrap Sample 20/100 completed.\n",
            "Bootstrap Sample 30/100 completed.\n",
            "Bootstrap Sample 40/100 completed.\n",
            "Bootstrap Sample 50/100 completed.\n",
            "Bootstrap Sample 60/100 completed.\n",
            "Bootstrap Sample 70/100 completed.\n",
            "Bootstrap Sample 80/100 completed.\n",
            "Bootstrap Sample 90/100 completed.\n",
            "Bootstrap Sample 100/100 completed.\n"
          ]
        },
        {
          "output_type": "display_data",
          "data": {
            "text/plain": [
              "<Figure size 640x480 with 1 Axes>"
            ],
            "image/png": "[encoded data removed]"
          },
          "metadata": {}
        }
      ]
    },
    {
      "cell_type": "code",
      "source": [
        "transition_prob = mdp.transition_prob(transitions)"
      ],
      "metadata": {
        "id": "ioQ9FqCzxCAr"
      },
      "execution_count": null,
      "outputs": []
    },
    {
      "cell_type": "code",
      "source": [
        "_, influences = run_fqe_with_influences(mdp, transitions)\n",
        "\n",
        "filtered_transitions = remove_influential(transitions, influences, transition_prob)\n",
        "print(len(transitions))\n",
        "print(len(filtered_transitions))"
      ],
      "metadata": {
        "colab": {
          "base_uri": "https://localhost:8080/"
        },
        "id": "2WJJYSx26IpA",
        "outputId": "84975b23-9208-4755-b2a9-a9c430c233b7"
      },
      "execution_count": null,
      "outputs": [
        {
          "output_type": "stream",
          "name": "stdout",
          "text": [
            "2500\n",
            "2448\n"
          ]
        }
      ]
    },
    {
      "cell_type": "code",
      "source": [
        "# Perform bootstrapping on behavior data with atypical transiton\n",
        "print(\"Performing bootstrapping without low prob influential transitions...\")\n",
        "theta_samples = bootstrap_fqe_closed(\n",
        "    mdp,\n",
        "    filtered_transitions,\n",
        "    num_bootstrap_samples=num_bootstrap_samples\n",
        ")"
      ],
      "metadata": {
        "colab": {
          "base_uri": "https://localhost:8080/",
          "height": 668
        },
        "id": "PbNsKuOA6qrm",
        "outputId": "4c6781b6-697f-4b20-9fe8-c6a2feacf753"
      },
      "execution_count": null,
      "outputs": [
        {
          "output_type": "stream",
          "name": "stdout",
          "text": [
            "Performing bootstrapping without low prob influential transitions...\n",
            "Bootstrap Sample 10/100 completed.\n",
            "Bootstrap Sample 20/100 completed.\n",
            "Bootstrap Sample 30/100 completed.\n",
            "Bootstrap Sample 40/100 completed.\n",
            "Bootstrap Sample 50/100 completed.\n",
            "Bootstrap Sample 60/100 completed.\n",
            "Bootstrap Sample 70/100 completed.\n",
            "Bootstrap Sample 80/100 completed.\n",
            "Bootstrap Sample 90/100 completed.\n",
            "Bootstrap Sample 100/100 completed.\n"
          ]
        },
        {
          "output_type": "display_data",
          "data": {
            "text/plain": [
              "<Figure size 640x480 with 1 Axes>"
            ],
            "image/png": "[encoded data removed]"
          },
          "metadata": {}
        }
      ]
    },
    {
      "cell_type": "code",
      "source": [],
      "metadata": {
        "id": "KgoJS29qDEu6"
      },
      "execution_count": null,
      "outputs": []
    }
  ]
}